{
 "cells": [
  {
   "cell_type": "markdown",
   "id": "a56825ca",
   "metadata": {},
   "source": [
    "# !! make sure you SAVE AS ... this notebook to get your own copy !!"
   ]
  },
  {
   "cell_type": "code",
   "execution_count": 1,
   "id": "22a6e600",
   "metadata": {},
   "outputs": [],
   "source": [
    "from code.utility import Utility"
   ]
  },
  {
   "cell_type": "markdown",
   "id": "1c8060b3",
   "metadata": {},
   "source": [
    "=============== USER INPUT =========================================="
   ]
  },
  {
   "cell_type": "code",
   "execution_count": 2,
   "id": "c0be45a2",
   "metadata": {},
   "outputs": [
    {
     "data": {
      "application/vnd.jupyter.widget-view+json": {
       "model_id": "43cacaf11af148c8aede64e1c6274299",
       "version_major": 2,
       "version_minor": 0
      },
      "text/plain": [
       "HBox(children=(Label(value='Sample run number (ex: 8737):'), IntText(value=8764, layout=Layout(width='100px'))…"
      ]
     },
     "metadata": {},
     "output_type": "display_data"
    },
    {
     "data": {
      "application/vnd.jupyter.widget-view+json": {
       "model_id": "1fb3f53220104a388fbb066b6ce6b581",
       "version_major": 2,
       "version_minor": 0
      },
      "text/plain": [
       "HBox(children=(Label(value='Open beam run numbers (ex: 8734, 8735):'), Text(value='8785', layout=Layout(width=…"
      ]
     },
     "metadata": {},
     "output_type": "display_data"
    }
   ],
   "source": [
    "o_exp = Utility()\n",
    "o_exp.enter_run_numbers()"
   ]
  },
  {
   "cell_type": "markdown",
   "id": "3bc95e3e",
   "metadata": {},
   "source": [
    "==================================================================="
   ]
  },
  {
   "cell_type": "markdown",
   "id": "59d0bc1f",
   "metadata": {},
   "source": [
    "# Normalization"
   ]
  },
  {
   "cell_type": "code",
   "execution_count": 3,
   "id": "e67b12ef",
   "metadata": {},
   "outputs": [],
   "source": [
    "o_exp.perform_ob_normalization()"
   ]
  },
  {
   "cell_type": "markdown",
   "id": "388b8265",
   "metadata": {},
   "source": [
    "# Select region for profile"
   ]
  },
  {
   "cell_type": "code",
   "execution_count": null,
   "id": "09e04cfa",
   "metadata": {},
   "outputs": [],
   "source": [
    "o_exp.interactive_profile_of_normalized_data()"
   ]
  },
  {
   "cell_type": "markdown",
   "id": "1c6b0a45",
   "metadata": {},
   "source": [
    "# Rebining the data"
   ]
  },
  {
   "cell_type": "code",
   "execution_count": null,
   "id": "18824497",
   "metadata": {},
   "outputs": [],
   "source": [
    "o_exp.interactive_rebin()"
   ]
  },
  {
   "cell_type": "markdown",
   "id": "ec65409e",
   "metadata": {},
   "source": [
    "# Export \n",
    "\n",
    "Export in an ascii file the data from the previous graph (means counts vs lambda)"
   ]
  },
  {
   "cell_type": "code",
   "execution_count": null,
   "id": "880dfeb0",
   "metadata": {},
   "outputs": [],
   "source": [
    "o_exp.export_results()"
   ]
  },
  {
   "cell_type": "code",
   "execution_count": null,
   "id": "06af2cd7",
   "metadata": {},
   "outputs": [],
   "source": []
  }
 ],
 "metadata": {
  "kernelspec": {
   "display_name": "python310",
   "language": "python",
   "name": "python3"
  },
  "language_info": {
   "codemirror_mode": {
    "name": "ipython",
    "version": 3
   },
   "file_extension": ".py",
   "mimetype": "text/x-python",
   "name": "python",
   "nbconvert_exporter": "python",
   "pygments_lexer": "ipython3",
   "version": "3.10.8"
  }
 },
 "nbformat": 4,
 "nbformat_minor": 5
}
