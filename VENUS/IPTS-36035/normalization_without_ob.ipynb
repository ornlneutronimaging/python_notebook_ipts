{
 "cells": [
  {
   "cell_type": "markdown",
   "id": "a56825ca",
   "metadata": {},
   "source": [
    "# !! make sure you SAVE AS ... this notebook to get your own copy !!"
   ]
  },
  {
   "cell_type": "code",
   "execution_count": null,
   "id": "22a6e600",
   "metadata": {},
   "outputs": [],
   "source": [
    "from code.utility import Utility"
   ]
  },
  {
   "cell_type": "markdown",
   "id": "1c8060b3",
   "metadata": {},
   "source": [
    "=============== USER INPUT =========================================="
   ]
  },
  {
   "cell_type": "code",
   "execution_count": null,
   "id": "c0be45a2",
   "metadata": {},
   "outputs": [],
   "source": [
    "o_exp = Utility()\n",
    "o_exp.enter_sample_run_number()"
   ]
  },
  {
   "cell_type": "markdown",
   "id": "3bc95e3e",
   "metadata": {},
   "source": [
    "==================================================================="
   ]
  },
  {
   "cell_type": "markdown",
   "id": "dd5a19b5",
   "metadata": {},
   "source": [
    "# load the data"
   ]
  },
  {
   "cell_type": "code",
   "execution_count": null,
   "id": "505f2118",
   "metadata": {},
   "outputs": [],
   "source": [
    "o_exp.load_data()"
   ]
  },
  {
   "cell_type": "markdown",
   "id": "59d0bc1f",
   "metadata": {},
   "source": [
    "# Normalization"
   ]
  },
  {
   "cell_type": "code",
   "execution_count": null,
   "id": "48f7f130",
   "metadata": {},
   "outputs": [],
   "source": [
    "o_exp.select_open_beam_region()"
   ]
  },
  {
   "cell_type": "markdown",
   "id": "ffdd291f",
   "metadata": {},
   "source": [
    "#### Perform normalization\n",
    "\n",
    "perform the normalization using the mean counts of the region selected above as \"open beam region\""
   ]
  },
  {
   "cell_type": "code",
   "execution_count": null,
   "id": "e67b12ef",
   "metadata": {},
   "outputs": [],
   "source": [
    "o_exp.perform_normalization()"
   ]
  },
  {
   "cell_type": "markdown",
   "id": "1c6b0a45",
   "metadata": {},
   "source": [
    "# Rebining the data"
   ]
  },
  {
   "cell_type": "code",
   "execution_count": null,
   "id": "18824497",
   "metadata": {},
   "outputs": [],
   "source": [
    "o_exp.interactive_rebin()"
   ]
  },
  {
   "cell_type": "markdown",
   "id": "ec65409e",
   "metadata": {},
   "source": [
    "# Export \n",
    "\n",
    "Export:\n",
    "* stack of normalized images\n",
    "* ascii file of the data from the previous graph (means counts vs lambda)"
   ]
  },
  {
   "cell_type": "code",
   "execution_count": null,
   "id": "880dfeb0",
   "metadata": {},
   "outputs": [],
   "source": [
    "o_exp.export_results()"
   ]
  },
  {
   "cell_type": "code",
   "execution_count": null,
   "id": "c2dc45c0",
   "metadata": {},
   "outputs": [],
   "source": []
  }
 ],
 "metadata": {
  "kernelspec": {
   "display_name": "python310",
   "language": "python",
   "name": "python3"
  },
  "language_info": {
   "codemirror_mode": {
    "name": "ipython",
    "version": 3
   },
   "file_extension": ".py",
   "mimetype": "text/x-python",
   "name": "python",
   "nbconvert_exporter": "python",
   "pygments_lexer": "ipython3",
   "version": "3.10.8"
  }
 },
 "nbformat": 4,
 "nbformat_minor": 5
}
